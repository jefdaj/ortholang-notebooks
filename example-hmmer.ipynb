{
 "cells": [
  {
   "cell_type": "markdown",
   "id": "236803ad-c917-45a8-b09a-bf2bd35b1b86",
   "metadata": {},
   "source": [
    "# HMMER"
   ]
  },
  {
   "cell_type": "code",
   "execution_count": 4,
   "id": "da8e0093-481f-4e72-91ec-2e8b8dd5823d",
   "metadata": {},
   "outputs": [
    {
     "name": "stdout",
     "output_type": "stream",
     "text": [
      "Search sequences with hidden Markov models\n",
      "\n",
      "Functions:\n",
      "\n",
      "hmmbuild\n",
      "hmmbuild_each\n",
      "hmmsearch\n",
      "hmmsearch_each\n",
      "extract_hmm_targets\n",
      "extract_hmm_targets_each"
     ]
    }
   ],
   "source": [
    ":h hmmer"
   ]
  },
  {
   "cell_type": "code",
   "execution_count": 5,
   "id": "0b8839c5-76ef-41ab-9a58-ce14cbb11082",
   "metadata": {},
   "outputs": [
    {
     "name": "stdout",
     "output_type": "stream",
     "text": [
      "hmmbuild : aln -> hmm\n",
      "\n",
      "where\n",
      "  aln = multiple sequence alignment\n",
      "  hmm = hidden markov model"
     ]
    }
   ],
   "source": [
    ":h hmmbuild"
   ]
  },
  {
   "cell_type": "code",
   "execution_count": 6,
   "id": "7377a823-8086-415a-ab1d-2562d65418db",
   "metadata": {},
   "outputs": [
    {
     "name": "stdout",
     "output_type": "stream",
     "text": [
      "The aln extension is for multiple sequence alignment.\n",
      "\n",
      "You can create them with these 1 functions:\n",
      "  muscle : faa -> aln\n",
      "\n",
      "And use them with these 1 functions:\n",
      "  hmmbuild : aln -> hmm"
     ]
    }
   ],
   "source": [
    ":h aln"
   ]
  },
  {
   "cell_type": "code",
   "execution_count": 8,
   "id": "ef7ad554-0636-4ac1-a086-aa0d833161ed",
   "metadata": {},
   "outputs": [
    {
     "name": "stdout",
     "output_type": "stream",
     "text": []
    }
   ],
   "source": [
    "magala = load_faa \"example-data/Mycoplasma_agalactiae_small.faa\""
   ]
  },
  {
   "cell_type": "code",
   "execution_count": 9,
   "id": "5a9539c1-e6f4-4ddd-be8c-e1833e2525be",
   "metadata": {},
   "outputs": [
    {
     "name": "stdout",
     "output_type": "stream",
     "text": [
      ">gi|290752267|emb|CBH40238.1|\n",
      "MNINSPNDKEIALKSYTETFLDILRQELGDQMLYKNFFANFEIKDVSKIGHITIGTTNVT\n",
      "PNSQYVIRAYESSIQKSLDETFERKCTFSFVLLDSAVKKKVKRERKEAAIENIELSNREV\n",
      "DKTKTFENYVEGNFNKEAIRIAKLIVEGEEDYNPIFIYGKSGIGKTHLLNAICNELLKKE\n",
      "VSVKYINANSFTRDISYFLQENDQRKLKQIRNHFDNADIVMFDDFQSYGIGNKKATIELI\n",
      "..."
     ]
    }
   ],
   "source": [
    "magala"
   ]
  },
  {
   "cell_type": "code",
   "execution_count": null,
   "id": "3f99bde1-9bbc-4cef-a864-19e26e0c8a76",
   "metadata": {},
   "outputs": [],
   "source": []
  }
 ],
 "metadata": {
  "kernelspec": {
   "display_name": "OrthoLang 0.10.1",
   "language": "ortholang",
   "name": "ortholang_0.10.1"
  },
  "language_info": {
   "file_extension": ".ol",
   "mimetype": "text/x-script.ortholang",
   "name": "OrthoLang",
   "pygments_lexer": "ipython3"
  }
 },
 "nbformat": 4,
 "nbformat_minor": 5
}
