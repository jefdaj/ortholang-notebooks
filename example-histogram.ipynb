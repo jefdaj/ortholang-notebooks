{
 "cells": [
  {
   "cell_type": "markdown",
   "id": "467b911b-c280-4ffc-aa0c-8d8bfdf5730f",
   "metadata": {},
   "source": [
    "# Histograms\n",
    "\n",
    "Histograms in OrthoLang are very simple and limited. They're mainly intended to help you tune variables in the script rather than for presenting results. If you want to make nicer plots, the easiest way is to write the numbers to a file and plot them in Python or R."
   ]
  },
  {
   "cell_type": "code",
   "execution_count": null,
   "id": "3c969ffa-10b7-4829-bf9a-9599fa27cddf",
   "metadata": {},
   "outputs": [],
   "source": [
    "# the simplest case: supply title and a list of numbers, and it plots the frequency of the numbers\n",
    "histogram \"unnamed (inline) list of numbers\" [1,1,1,1,1,2,3,4,2,3,4,2,2,1,1]"
   ]
  },
  {
   "cell_type": "code",
   "execution_count": null,
   "id": "c07defa2-687b-41c5-86dd-175a08a2f4df",
   "metadata": {},
   "outputs": [],
   "source": [
    "my_nums = [23,32,1,1,1,1,2,3,2,1,1,1,2,2,3,43,5,3,2,3]\n",
    "\n",
    "# if you pass the histogram function a variable, it will include its name in the plot\n",
    "histogram \"with a variable name\" my_nums"
   ]
  },
  {
   "cell_type": "markdown",
   "id": "3ca46016-f93d-4a19-8540-d6cb4e33c063",
   "metadata": {},
   "source": [
    "One of the main places you'll probably end up wanting to use a histogram is when you're trying to tune some search parameter. You'll have an input list and be taking random samples from it, running your search with each sample, and scoring the result. The histogram shows the distribution of scores."
   ]
  },
  {
   "cell_type": "code",
   "execution_count": 2,
   "id": "2120e7fc-17da-4701-8dfb-ea6f15b3e6a4",
   "metadata": {},
   "outputs": [
    {
     "name": "stdout",
     "output_type": "stream",
     "text": []
    }
   ],
   "source": [
    "my_xvar = 1            # labels the x axis\n",
    "my_yvar = 1.2e3 * xvar # labels the y axis (named plot only)\n",
    "scores = score_repeats my_yvar my_xvar [1,2,3,4,5,2,2,4,1,3,1,1,1,1]\n",
    "xvars = extract_scored scores\n",
    "yvars = extract_scores scores\n",
    "plots =\n",
    "  [ histogram \"histogram of xvar inputs\" xvars\n",
    "  , histogram \"histogram of yvar scores\" yvars\n",
    "  , histogram \"histogram of unnamed (inline) nums\" [1,2,3,4,5,2,2,4,1,3,1,1,1,1]\n",
    "  ]\n",
    "result = plots"
   ]
  },
  {
   "cell_type": "code",
   "execution_count": 11,
   "id": "97b27990-b7e7-4856-adec-d9380d269864",
   "metadata": {},
   "outputs": [
    {
     "name": "stdout",
     "output_type": "stream",
     "text": [
      "1"
     ]
    }
   ],
   "source": [
    "xvar"
   ]
  },
  {
   "cell_type": "code",
   "execution_count": 12,
   "id": "aa81de1e-e3a3-4e31-90c0-959d88b83bdc",
   "metadata": {},
   "outputs": [
    {
     "name": "stdout",
     "output_type": "stream",
     "text": [
      "1200"
     ]
    }
   ],
   "source": [
    "yva"
   ]
  },
  {
   "cell_type": "code",
   "execution_count": 13,
   "id": "349d007b-882c-4d26-904f-b710b1da5473",
   "metadata": {},
   "outputs": [
    {
     "name": "stdout",
     "output_type": "stream",
     "text": [
      "1200.0\t1.0\n",
      "2400.0\t2.0\n",
      "3600.0\t3.0\n",
      "4800.0\t4.0\n",
      "6000.0\t5.0\n",
      "..."
     ]
    }
   ],
   "source": [
    "scores"
   ]
  },
  {
   "cell_type": "code",
   "execution_count": 6,
   "id": "616f0b42-06fb-421d-a1fe-d790dfa35d71",
   "metadata": {},
   "outputs": [
    {
     "name": "stdout",
     "output_type": "stream",
     "text": [
      "[1, 2, 3, 4, 5]"
     ]
    }
   ],
   "source": [
    "xvars"
   ]
  },
  {
   "cell_type": "code",
   "execution_count": 7,
   "id": "3de9ea2c-dfa0-438f-9629-6425d93b4034",
   "metadata": {},
   "outputs": [
    {
     "name": "stdout",
     "output_type": "stream",
     "text": [
      "[1200, 2400, 3600, 4800, 6000]"
     ]
    }
   ],
   "source": [
    "yvars"
   ]
  },
  {
   "cell_type": "code",
   "execution_count": null,
   "id": "2636abd2-63cc-4145-be74-858b37e322c5",
   "metadata": {},
   "outputs": [],
   "source": [
    "# bug here: TMPDIR variable being added to path instead of replacing it\n",
    "histogram \"histogram of xvar inputs\" xvars"
   ]
  },
  {
   "cell_type": "code",
   "execution_count": null,
   "id": "252d650d-b469-4c43-bb40-62d6fcfe86a1",
   "metadata": {},
   "outputs": [],
   "source": []
  }
 ],
 "metadata": {
  "kernelspec": {
   "display_name": "OrthoLang 0.10.1",
   "language": "ortholang",
   "name": "ortholang_0.10.1"
  },
  "language_info": {
   "file_extension": ".ol",
   "mimetype": "text/x-script.ortholang",
   "name": "OrthoLang",
   "pygments_lexer": "ipython3"
  }
 },
 "nbformat": 4,
 "nbformat_minor": 5
}
