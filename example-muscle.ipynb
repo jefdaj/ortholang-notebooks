{
 "cells": [
  {
   "cell_type": "markdown",
   "id": "342bf99e-8c22-4594-8e44-ad53609a096d",
   "metadata": {},
   "source": [
    "# MUSCLE\n",
    "\n",
    "MUSCLE takes a FASTA amino acid file and makes a multiple sequence alignment of the proteins in it. Then can use that alignment to make a PSSM or HMM profile and do profile-based searches. Unlike with most OrthoLang functions, the sequences here should be a bunch of variants of the same protein, NOT complete proteomes. One way to get a list of sequences like that is to do a BLAST search first:"
   ]
  },
  {
   "cell_type": "code",
   "execution_count": 12,
   "id": "cfe13578-9bce-4cb5-8f7f-6a1f1c9bbf47",
   "metadata": {},
   "outputs": [
    {
     "name": "stdout",
     "output_type": "stream",
     "text": []
    }
   ],
   "source": [
    "seed = load_faa \"example-data/Mycoplasma_genitalium_single.faa\""
   ]
  },
  {
   "cell_type": "code",
   "execution_count": 13,
   "id": "8719f9c8-f895-4852-8113-68f1e29b7a6e",
   "metadata": {},
   "outputs": [
    {
     "name": "stdout",
     "output_type": "stream",
     "text": [
      ">gi|84626162|gb|AAC71217.2|\n",
      "MKILINKSELNKILKKMNNVIISNNKIKPHHSYFLIEAKEKEINFYANNEYFSVKCNLNK\n",
      "NIDILEQGSLIVKGKIFNDLINGIKEEIITIQEKDQTLLVKTKKTSINLNTINVNEFPRI\n",
      "RFNEKNDLSEFNQFKINYSLLVKGIKKIFHSVSNNREISSKFNGVNFNGSNGKEIFLEAS\n",
      "DTYKLSVFEIKQETEPFDFILESNLLSFINSFNPEEDKSIVFYYRKDNKDSFSTEMLISM\n",
      "..."
     ]
    }
   ],
   "source": [
    "seed"
   ]
  },
  {
   "cell_type": "code",
   "execution_count": 20,
   "id": "84e42881-9867-4c62-af25-ad5251c473c7",
   "metadata": {},
   "outputs": [
    {
     "name": "stdout",
     "output_type": "stream",
     "text": []
    }
   ],
   "source": [
    "proteomes = load_faa_glob \"example-data/Mycoplasma_*_refseq.faa\""
   ]
  },
  {
   "cell_type": "code",
   "execution_count": 25,
   "id": "4871e281-811e-4673-b063-7a7f183abce2",
   "metadata": {},
   "outputs": [
    {
     "name": "stdout",
     "output_type": "stream",
     "text": []
    }
   ],
   "source": [
    "db = makeblastdb_prot_all proteomes\n",
    "matches = blastp_db 1e-20 seed db"
   ]
  },
  {
   "cell_type": "code",
   "execution_count": 26,
   "id": "de61c714-62f0-499b-a37b-b6feccecaa22",
   "metadata": {},
   "outputs": [
    {
     "name": "stdout",
     "output_type": "stream",
     "text": [
      "gi|84626162|gb|AAC71217.2|\tWP_009885562.1\t100.000\t380\t0\t0\t1\t380\t1\t380\t0.0\t741\n",
      "gi|84626162|gb|AAC71217.2|\tWP_009885562.1\t100.000\t380\t0\t0\t1\t380\t1\t380\t0.0\t741\n",
      "gi|84626162|gb|AAC71217.2|\tWP_011076828.1\t27.083\t384\t263\t7\t1\t380\t7\t377\t1.17e-30\t119"
     ]
    }
   ],
   "source": [
    "# this will have one duplicate because the seed sequence is also from one of the protomes\n",
    "# for our purposes that doesn't really matter\n",
    "matches"
   ]
  },
  {
   "cell_type": "code",
   "execution_count": null,
   "id": "1d94c198-6b88-4c84-9ffd-80246647eff5",
   "metadata": {},
   "outputs": [],
   "source": []
  },
  {
   "cell_type": "code",
   "execution_count": 1,
   "id": "5c9b1731-3a28-4523-a4f1-816b739cd811",
   "metadata": {},
   "outputs": [
    {
     "name": "stdout",
     "output_type": "stream",
     "text": [
      "muscle : faa -> aln\n",
      "\n",
      "where\n",
      "  faa = FASTA amino acid\n",
      "  aln = multiple sequence alignment"
     ]
    }
   ],
   "source": [
    ":h muscle"
   ]
  },
  {
   "cell_type": "code",
   "execution_count": 2,
   "id": "6716910c-94d5-4c06-801b-a7f5959ec995",
   "metadata": {},
   "outputs": [
    {
     "name": "stdout",
     "output_type": "stream",
     "text": [
      "The aln extension is for multiple sequence alignment.\n",
      "\n",
      "You can create them with these 1 functions:\n",
      "  muscle : faa -> aln\n",
      "\n",
      "And use them with these 1 functions:\n",
      "  hmmbuild : aln -> hmm"
     ]
    }
   ],
   "source": [
    ":h aln"
   ]
  },
  {
   "cell_type": "code",
   "execution_count": 3,
   "id": "ecff98ec-9a1b-46b1-a570-56f510de0de5",
   "metadata": {},
   "outputs": [
    {
     "name": "stdout",
     "output_type": "stream",
     "text": [
      "The pssm extension is for PSI-BLAST position-specific substitution matrix as ASCII.\n",
      "\n",
      "You can create them with these 3 functions:\n",
      "  psiblast_train_faa_faa : num faa faa -> pssm\n",
      "  psiblast_train_faa_faas_all : num faa faa.list -> pssm\n",
      "  psiblast_train_faa_pdb : num faa faa.blastdb -> pssm\n",
      "\n",
      "And use them with these 5 functions:\n",
      "  psiblast_search_pssm_faa : num pssm faa -> bht\n",
      "  psiblast_search_pssm_faas : num pssm faa.list -> bht.list\n",
      "  psiblast_search_pssm_pdb : num pssm faa.blastdb -> bht\n",
      "  psiblast_search_pssm_pdbs : num pssm faa.blastdb.list -> bht.list\n",
      "  psiblast_search_pssm_pdbs_all : num pssm faa.blastdb.list -> bht"
     ]
    }
   ],
   "source": [
    ":h pssm"
   ]
  },
  {
   "cell_type": "code",
   "execution_count": 4,
   "id": "423ee76a-d43c-4330-b63a-b538aabab9df",
   "metadata": {},
   "outputs": [
    {
     "name": "stdout",
     "output_type": "stream",
     "text": []
    }
   ],
   "source": [
    "magala = load_faa \"example-data/Mycoplasma_agalactiae_small.faa\""
   ]
  },
  {
   "cell_type": "code",
   "execution_count": 5,
   "id": "84b3fa2d-f38d-44c2-a356-7848f06cca3c",
   "metadata": {},
   "outputs": [
    {
     "name": "stdout",
     "output_type": "stream",
     "text": [
      ">gi|290752267|emb|CBH40238.1|\n",
      "MNINSPNDKEIALKSYTETFLDILRQELGDQMLYKNFFANFEIKDVSKIGHITIGTTNVT\n",
      "PNSQYVIRAYESSIQKSLDETFERKCTFSFVLLDSAVKKKVKRERKEAAIENIELSNREV\n",
      "DKTKTFENYVEGNFNKEAIRIAKLIVEGEEDYNPIFIYGKSGIGKTHLLNAICNELLKKE\n",
      "VSVKYINANSFTRDISYFLQENDQRKLKQIRNHFDNADIVMFDDFQSYGIGNKKATIELI\n",
      "..."
     ]
    }
   ],
   "source": [
    "magala"
   ]
  },
  {
   "cell_type": "code",
   "execution_count": 36,
   "id": "b1f6a22d-8215-4021-bade-f6156a4bcc64",
   "metadata": {},
   "outputs": [
    {
     "name": "stdout",
     "output_type": "stream",
     "text": [
      "Traceback (most recent call last):\n",
      "  File \"/nix/store/ks4dfnkrwbi7jzqsnirh7alazxhrjv1y-OrthoLang-SeqIO/bin/.split_fasta.py-wrapped\", line 83, in <module>\n",
      "    main(*argv[1:])\n",
      "  File \"/nix/store/ks4dfnkrwbi7jzqsnirh7alazxhrjv1y-OrthoLang-SeqIO/bin/.split_fasta.py-wrapped\", line 80, in main\n",
      "    split_fasta(outlist, outdir, infasta, prefix, suffix)\n",
      "  File \"/nix/store/ks4dfnkrwbi7jzqsnirh7alazxhrjv1y-OrthoLang-SeqIO/bin/.split_fasta.py-wrapped\", line 61, in split_fasta\n",
      "    place_by_hash(oh, tmpfile, outdir, md5sum, suffix)\n",
      "  File \"/nix/store/ks4dfnkrwbi7jzqsnirh7alazxhrjv1y-OrthoLang-SeqIO/bin/.split_fasta.py-wrapped\", line 35, in place_by_hash\n",
      "    outhandle.write(outfile + '\\n')\n",
      "TypeError: a bytes-like object is required, not 'str'\n",
      "error: split_fasta.py failed with ExitFailure 1.\n",
      "The files it was working on have been deleted:\n",
      "/home/jefdaj/myrepos/ortholang-notebooks/.ortholang-kernels/76e0b8d4-187b-4ae0-8ee1-821a14f4184f/cache/split_faa/eafc65d3ba\n",
      "/home/jefdaj/myrepos/ortholang-notebooks/.ortholang-kernels/76e0b8d4-187b-4ae0-8ee1-821a14f4184f/cache/split_faa/result.tmp"
     ]
    }
   ],
   "source": [
    "# bug here\n",
    "split_faa (load_faa \"example-data/Mycoplasma_genitalium_small.faa\")"
   ]
  },
  {
   "cell_type": "code",
   "execution_count": 10,
   "id": "b9cc3860-ecf9-42e8-b992-1a4b21f4fc4e",
   "metadata": {},
   "outputs": [
    {
     "name": "stdout",
     "output_type": "stream",
     "text": [
      "extract_seqs : fa str.list -> fa\n",
      "\n",
      "where\n",
      "  fa = any fasta file (fna or faa)\n",
      "  str = string"
     ]
    }
   ],
   "source": [
    ":h extract_seqs"
   ]
  },
  {
   "cell_type": "code",
   "execution_count": 41,
   "id": "6fd09702-b25d-4934-9f24-f900bdad35cc",
   "metadata": {},
   "outputs": [
    {
     "name": "stdout",
     "output_type": "stream",
     "text": []
    }
   ],
   "source": [
    "# bug here too\n",
    "extract_seqs magala [\"gi|290752271|emb|CBH40242.1|\"]"
   ]
  },
  {
   "cell_type": "code",
   "execution_count": 45,
   "id": "f72f0e90-7f09-4ec9-8027-2a26f1982345",
   "metadata": {},
   "outputs": [
    {
     "name": "stdout",
     "output_type": "stream",
     "text": []
    }
   ],
   "source": [
    "random_seq = extract_seqs magala (sample 1 (extract_ids magala))"
   ]
  },
  {
   "cell_type": "code",
   "execution_count": 46,
   "id": "147a360f-0c75-4c33-a1b8-8b2128d48ad7",
   "metadata": {},
   "outputs": [
    {
     "name": "stdout",
     "output_type": "stream",
     "text": [
      ">gi|290752317|emb|CBH40288.1|\n",
      "MSIKYIDCHTHPIKEYYKDNFQVIEKAYFKGVAAMLITGCDPKENLEVLNICSHFDYTFP\n",
      "VIGVHPNNSTGAIDGEIVESQLTKDVVAIGEIGLDYHYPDTKKDIQKESFIAQIKVAQRH\n",
      "NLPVVVHMRDSYEDLFEILSQFKDVKFMIHTFSGNLYWAKKFNDLGCYFSFSAIATYKNN\n",
      "SSLLEVLQYLPVDKILTETDAPYLPPASKRGMLNYPNYVKHTANYIAGVKGLSIEKFTDK\n",
      "..."
     ]
    }
   ],
   "source": [
    "random_seq"
   ]
  },
  {
   "cell_type": "code",
   "execution_count": 50,
   "id": "945faf8f-6ad3-40a1-8300-478cc89b6ea5",
   "metadata": {},
   "outputs": [
    {
     "name": "stdout",
     "output_type": "stream",
     "text": [
      "extract_seqs_each has the type signature [Some (TypeGroup {tgExt = \"fa\", tgDesc = \"FASTA nucleic OR amino acid\", tgMembers = [Exactly fna,Exactly faa]}) \"any fasta file\",Exactly str.list.list],\n",
      "which doesn't match its inputs [faa.list,str.list]\n",
      "Specifically, the faa.list in position 1 doesn't match Some (TypeGroup {tgExt = \"fa\", tgDesc = \"FASTA nucleic OR amino acid\", tgMembers = [Exactly fna,Exactly faa]}) \"any fasta file\".\n",
      "the str.list in position 2 doesn't match Exactly str.list.list."
     ]
    }
   ],
   "source": [
    "matches = blastp_db 1e-20 random_seq db\n",
    "match_ids = extract_targets matches\n",
    "# does this need to be written?\n",
    "match_seqs = concat_faa (extract_seqs_each proteomes match_ids)"
   ]
  },
  {
   "cell_type": "code",
   "execution_count": 2,
   "id": "4313bb36-28a6-4b56-9e22-b5637a69ebdf",
   "metadata": {},
   "outputs": [
    {
     "name": "stdout",
     "output_type": "stream",
     "text": []
    }
   ],
   "source": [
    "# another approach:\n",
    "proteomes = load_faa_glob \"example-data/Mycoplasma_*_refseq.faa\"\n",
    "proteomes_single_file = concat_faa proteomes\n",
    "random_seq = extract_seqs proteomes_single_file (sample 1 (extract_ids proteomes_single_file))\n",
    "matches = blastp 1e-20 random_seq proteomes_single_file\n",
    "match_ids = extract_targets matches\n",
    "match_seqs = extract_seqs proteomes_single_file match_ids"
   ]
  },
  {
   "cell_type": "code",
   "execution_count": 8,
   "id": "fdaa735d-f948-419b-980f-6b069ba84828",
   "metadata": {},
   "outputs": [
    {
     "name": "stdout",
     "output_type": "stream",
     "text": [
      "Traceback (most recent call last):\n",
      "  File \"/nix/store/ks4dfnkrwbi7jzqsnirh7alazxhrjv1y-OrthoLang-SeqIO/bin/.cat.py-wrapped\", line 48, in <module>\n",
      "    main(*argv[1:])\n",
      "  File \"/nix/store/ks4dfnkrwbi7jzqsnirh7alazxhrjv1y-OrthoLang-SeqIO/bin/.cat.py-wrapped\", line 41, in main\n",
      "    if not is_empty(infile):\n",
      "  File \"/nix/store/ks4dfnkrwbi7jzqsnirh7alazxhrjv1y-OrthoLang-SeqIO/bin/.cat.py-wrapped\", line 29, in is_empty\n",
      "    with open(filetotest, 'r') as f:\n",
      "FileNotFoundError: [Errno 2] No such file or directory: '$TMPDIR/cache/load/0d8dfa261e.faa'\n",
      "error: cat.py failed with ExitFailure 1.\n",
      "The files it was working on have been deleted:\n",
      "/home/jefdaj/myrepos/ortholang-notebooks/.ortholang-kernels/76e0b8d4-187b-4ae0-8ee1-821a14f4184f/exprs/concat_faa/1b8a0ea696/result"
     ]
    }
   ],
   "source": [
    "match_seqs"
   ]
  },
  {
   "cell_type": "code",
   "execution_count": 14,
   "id": "e495f520-ac7e-4732-a4cf-21d77a32a5c5",
   "metadata": {},
   "outputs": [
    {
     "name": "stdout",
     "output_type": "stream",
     "text": [
      "Traceback (most recent call last):\n",
      "  File \"/nix/store/ks4dfnkrwbi7jzqsnirh7alazxhrjv1y-OrthoLang-SeqIO/bin/.cat.py-wrapped\", line 48, in <module>\n",
      "    main(*argv[1:])\n",
      "  File \"/nix/store/ks4dfnkrwbi7jzqsnirh7alazxhrjv1y-OrthoLang-SeqIO/bin/.cat.py-wrapped\", line 41, in main\n",
      "    if not is_empty(infile):\n",
      "  File \"/nix/store/ks4dfnkrwbi7jzqsnirh7alazxhrjv1y-OrthoLang-SeqIO/bin/.cat.py-wrapped\", line 29, in is_empty\n",
      "    with open(filetotest, 'r') as f:\n",
      "FileNotFoundError: [Errno 2] No such file or directory: '$TMPDIR/cache/load/0d8dfa261e.faa'\n",
      "error: cat.py failed with ExitFailure 1.\n",
      "The files it was working on have been deleted:\n",
      "/home/jefdaj/myrepos/ortholang-notebooks/.ortholang-kernels/76e0b8d4-187b-4ae0-8ee1-821a14f4184f/exprs/concat_faa/1b8a0ea696/result"
     ]
    }
   ],
   "source": [
    "# bug: cat missing in jupyter env?\n",
    "proteomes_single_file"
   ]
  },
  {
   "cell_type": "code",
   "execution_count": null,
   "id": "d7f61701-965e-4d75-b53e-c0ce4086e821",
   "metadata": {},
   "outputs": [],
   "source": []
  },
  {
   "cell_type": "code",
   "execution_count": null,
   "id": "093d4172-a658-4565-8656-5d4c1490b63e",
   "metadata": {},
   "outputs": [],
   "source": []
  }
 ],
 "metadata": {
  "kernelspec": {
   "display_name": "OrthoLang 0.10.1",
   "language": "ortholang",
   "name": "ortholang_0.10.1"
  },
  "language_info": {
   "file_extension": ".ol",
   "mimetype": "text/x-script.ortholang",
   "name": "OrthoLang",
   "pygments_lexer": "ipython3"
  }
 },
 "nbformat": 4,
 "nbformat_minor": 5
}
