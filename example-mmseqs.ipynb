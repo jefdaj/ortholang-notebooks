{
 "cells": [
  {
   "cell_type": "markdown",
   "id": "3dae1a60-b663-4e96-a4fd-ff580e30b0cc",
   "metadata": {},
   "source": [
    "# MMSeqs\n",
    "\n",
    "[MMSeqs \"Many-against-Many sequence searching\"](https://github.com/soedinglab/MMseqs2) has a lot of advanced features, but in OrthoLang only the BLAST-like basics are exposed. The idea being that if you want to use the advanced features you might as well run MMSeqs directly. Instead we'll redo `example-blastp` here, swapping out the BLAST functions for their MMSeqs equivalents. We should get either the exact same results at the end, or fairly close."
   ]
  },
  {
   "cell_type": "code",
   "execution_count": 1,
   "id": "52a89944-0dce-4544-926b-748a780f6c15",
   "metadata": {},
   "outputs": [
    {
     "name": "stdout",
     "output_type": "stream",
     "text": []
    }
   ],
   "source": [
    "magala = load_faa \"example-data/Mycoplasma_agalactiae_small.faa\"\n",
    "mbovis = load_faa \"example-data/Mycoplasma_bovis_small.fa\""
   ]
  },
  {
   "cell_type": "code",
   "execution_count": 2,
   "id": "bdbd2e4a-2250-4672-90b9-3a0a178b0f27",
   "metadata": {},
   "outputs": [
    {
     "name": "stdout",
     "output_type": "stream",
     "text": [
      ">gi|290752267|emb|CBH40238.1|\n",
      "MNINSPNDKEIALKSYTETFLDILRQELGDQMLYKNFFANFEIKDVSKIGHITIGTTNVT\n",
      "PNSQYVIRAYESSIQKSLDETFERKCTFSFVLLDSAVKKKVKRERKEAAIENIELSNREV\n",
      "DKTKTFENYVEGNFNKEAIRIAKLIVEGEEDYNPIFIYGKSGIGKTHLLNAICNELLKKE\n",
      "VSVKYINANSFTRDISYFLQENDQRKLKQIRNHFDNADIVMFDDFQSYGIGNKKATIELI\n",
      "..."
     ]
    }
   ],
   "source": [
    "magala"
   ]
  },
  {
   "cell_type": "code",
   "execution_count": 3,
   "id": "76e6522f-32ec-4bee-a48a-178715eb138b",
   "metadata": {},
   "outputs": [
    {
     "name": "stdout",
     "output_type": "stream",
     "text": [
      ">AKO50237\n",
      "MNINSTNDKEIALKSYTETFLDILRQELGDQMLYKNFFANFEIKDISKIGHITIGTTNIT\n",
      "PNSQYVIKAYESSIQKSLDETFERKCTFSFVLLDSAIKKKIKRERKEEAIENIELSNREV\n",
      "DKAKTFDNYVEGNFNKEAIRIAKLIVDGEEDYNPIFIYGKSGIGKTHLLNAICNEFLKKD\n",
      "VSVKYINANSFTRDISYFLQENDQRKLKQIRNHFDNADIVMFDDFQSYGIGNKKATIELI\n",
      "..."
     ]
    }
   ],
   "source": [
    "mbovis"
   ]
  },
  {
   "cell_type": "code",
   "execution_count": 4,
   "id": "e99361c1-2a44-4a24-bcb4-282b0fc916f1",
   "metadata": {},
   "outputs": [
    {
     "name": "stdout",
     "output_type": "stream",
     "text": []
    }
   ],
   "source": [
    "# start with a simple search: one fasta file against another\n",
    "# list M. agalactiae genes with good hits in M. bovis\n",
    "hits1  = mmseqs_search 1.0e-20 magala mbovis\n",
    "genes1 = extract_queries hits1"
   ]
  },
  {
   "cell_type": "code",
   "execution_count": 5,
   "id": "0cf1070e-e505-46a1-9bc3-ba6336d76346",
   "metadata": {
    "tags": []
   },
   "outputs": [
    {
     "name": "stdout",
     "output_type": "stream",
     "text": [
      "gi|290752267|emb|CBH40238.1|\tAKO50237\t0.916\t465\t39\t0\t1\t465\t1\t465\t2.990E-295\t892\n",
      "gi|290752299|emb|CBH40270.1|\tAKO50269\t0.822\t539\t94\t0\t1\t529\t1\t539\t1.620E-301\t914\n",
      "gi|290752299|emb|CBH40270.1|\tAKO50342\t0.390\t364\t218\t0\t73\t436\t21\t378\t1.195E-70\t243\n",
      "gi|290752299|emb|CBH40270.1|\tAKO50268\t0.254\t330\t178\t0\t118\t356\t61\t390\t2.097E-28\t115\n",
      "gi|290752299|emb|CBH40270.1|\tAKO50343\t0.224\t383\t248\t0\t39\t421\t461\t780\t1.962E-25\t105\n",
      "..."
     ]
    }
   ],
   "source": [
    "# mmseqs hit tables are formatted like blast but the scores, evalues etc. aren't necessarily comparable\n",
    "hits1"
   ]
  },
  {
   "cell_type": "code",
   "execution_count": 6,
   "id": "cd3297b5-c4bf-461c-b5be-2429404f8bb1",
   "metadata": {},
   "outputs": [
    {
     "name": "stdout",
     "output_type": "stream",
     "text": [
      "157"
     ]
    }
   ],
   "source": [
    "length genes1"
   ]
  },
  {
   "cell_type": "code",
   "execution_count": 7,
   "id": "6b5290cd-a746-497f-84ee-8f0b1629e995",
   "metadata": {},
   "outputs": [
    {
     "name": "stdout",
     "output_type": "stream",
     "text": [
      "[\"gi|290752383|emb|CBH40354.1|\",\n",
      " \"gi|290752326|emb|CBH40297.1|\",\n",
      " \"gi|290752279|emb|CBH40250.1|\",\n",
      " \"gi|290752303|emb|CBH40274.1|\",\n",
      " \"gi|290752358|emb|CBH40329.1|\",\n",
      " \"gi|290752410|emb|CBH40381.1|\",\n",
      " \"gi|290752339|emb|CBH40310.1|\",\n",
      " \"gi|290752366|emb|CBH40337.1|\",\n",
      " \"gi|290752362|emb|CBH40333.1|\",\n",
      " \"gi|290752392|emb|CBH40363.1|\"]"
     ]
    }
   ],
   "source": [
    "# use the sample function to avoid printing the entire list\n",
    "# notice also that `extract_queries` gets the first column of IDs;\n",
    "# use `extract_targets` if you want the second column instead\n",
    "sample 10 genes1"
   ]
  },
  {
   "cell_type": "code",
   "execution_count": 8,
   "id": "363a3125-068d-48cf-bc42-b408fa5e482e",
   "metadata": {},
   "outputs": [
    {
     "name": "stdout",
     "output_type": "stream",
     "text": []
    }
   ],
   "source": [
    "# now list M. agalactiae genes with good hits in every Mycoplasma species\n",
    "# (the [magala] part subtracts magala from the others list so it isn't also querying itself)\n",
    "others = load_faa_glob \"example-data/Mycoplasma_*_refseq.faa\" ~ [magala]\n",
    "hits2  = mmseqs_search_db 1e-20 magala (mmseqs_createdb_all others)\n",
    "genes2 = extract_queries hits2"
   ]
  },
  {
   "cell_type": "code",
   "execution_count": 9,
   "id": "c4765d7e-54da-44ba-85cc-5e3f119bdb25",
   "metadata": {},
   "outputs": [
    {
     "name": "stdout",
     "output_type": "stream",
     "text": [
      "174"
     ]
    }
   ],
   "source": [
    "length genes2"
   ]
  },
  {
   "cell_type": "code",
   "execution_count": 11,
   "id": "38e40216-f602-4b55-a967-a3bd60c3940e",
   "metadata": {},
   "outputs": [
    {
     "name": "stdout",
     "output_type": "stream",
     "text": [
      "[\"gi|290752402|emb|CBH40373.1|\",\n",
      " \"gi|290752370|emb|CBH40341.1|\",\n",
      " \"gi|290752277|emb|CBH40248.1|\",\n",
      " \"gi|290752373|emb|CBH40344.1|\",\n",
      " \"gi|290752359|emb|CBH40330.1|\",\n",
      " \"gi|290752432|emb|CBH40403.1|\",\n",
      " \"gi|290752335|emb|CBH40306.1|\",\n",
      " \"gi|290752365|emb|CBH40336.1|\",\n",
      " \"gi|290752413|emb|CBH40384.1|\",\n",
      " \"gi|290752274|emb|CBH40245.1|\"]"
     ]
    }
   ],
   "source": [
    "# note that the sample will be different, so we don't expect the same 10 IDs as above\n",
    "# this is just to double-check what each list looks like\n",
    "sample 10 genes2"
   ]
  },
  {
   "cell_type": "code",
   "execution_count": 20,
   "id": "dee315e9-9498-468d-9712-29c0ed4db7c3",
   "metadata": {},
   "outputs": [
    {
     "name": "stdout",
     "output_type": "stream",
     "text": [
      "error: Error, file does not exist and no rule available:\n",
      "  /home/jefdaj/myrepos/ortholang-notebooks/.ortholang-kernels/431bab8e-0e00-4530-8371-ea55ba765661/cache/mmseqs/search/09c1d9da19.mmseqs2db.index"
     ]
    }
   ],
   "source": [
    "# finally, list genes found in magala and mbovis but not one of the others\n",
    "genes1 ~ genes2"
   ]
  },
  {
   "cell_type": "code",
   "execution_count": null,
   "id": "05e060e4-052d-4b69-997a-30918ecaa150",
   "metadata": {},
   "outputs": [],
   "source": []
  }
 ],
 "metadata": {
  "kernelspec": {
   "display_name": "OrthoLang 0.10.1",
   "language": "ortholang",
   "name": "ortholang_0.10.1"
  },
  "language_info": {
   "file_extension": ".ol",
   "mimetype": "text/x-script.ortholang",
   "name": "OrthoLang",
   "pygments_lexer": "ipython3"
  }
 },
 "nbformat": 4,
 "nbformat_minor": 5
}
