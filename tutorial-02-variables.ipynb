{
 "cells": [
  {
   "cell_type": "markdown",
   "id": "gothic-convenience",
   "metadata": {},
   "source": [
    "# Variables"
   ]
  },
  {
   "cell_type": "markdown",
   "id": "based-barrel",
   "metadata": {},
   "source": [
    "Let's start at the beginning. This is probably the simplest script you could write:"
   ]
  },
  {
   "cell_type": "code",
   "execution_count": 1,
   "id": "rotary-virtue",
   "metadata": {},
   "outputs": [
    {
     "name": "stdout",
     "output_type": "stream",
     "text": [
      "\"hello world!\""
     ]
    }
   ],
   "source": [
    "\"hello world!\""
   ]
  },
  {
   "cell_type": "markdown",
   "id": "great-spirituality",
   "metadata": {},
   "source": [
    "### The automatic `result` variable"
   ]
  },
  {
   "cell_type": "markdown",
   "id": "casual-namibia",
   "metadata": {},
   "source": [
    "When you evaluate something (type it and press enter on the command line, or shift+enter in Jupyter), it gets auto-assigned to `result`. You can show all the variables in the current script like this:"
   ]
  },
  {
   "cell_type": "code",
   "execution_count": 2,
   "id": "impaired-knight",
   "metadata": {},
   "outputs": [
    {
     "name": "stdout",
     "output_type": "stream",
     "text": [
      "result = \"hello world!\""
     ]
    }
   ],
   "source": [
    ":show"
   ]
  },
  {
   "cell_type": "markdown",
   "id": "political-philip",
   "metadata": {},
   "source": [
    "That's fine for quick tests, but you shouldn't rely on it because the next time you write something else it will be overwritten. For example:"
   ]
  },
  {
   "cell_type": "code",
   "execution_count": 3,
   "id": "prepared-table",
   "metadata": {},
   "outputs": [
    {
     "name": "stdout",
     "output_type": "stream",
     "text": [
      "\"something else\""
     ]
    }
   ],
   "source": [
    "\"something else\""
   ]
  },
  {
   "cell_type": "code",
   "execution_count": 4,
   "id": "religious-prayer",
   "metadata": {},
   "outputs": [
    {
     "name": "stdout",
     "output_type": "stream",
     "text": [
      "result = \"something else\""
     ]
    }
   ],
   "source": [
    ":show"
   ]
  },
  {
   "cell_type": "markdown",
   "id": "weekly-packet",
   "metadata": {},
   "source": [
    "### Other named variables"
   ]
  },
  {
   "cell_type": "markdown",
   "id": "defined-monte",
   "metadata": {},
   "source": [
    "Instead, assign names to anything you want to keep:"
   ]
  },
  {
   "cell_type": "code",
   "execution_count": 5,
   "id": "excessive-looking",
   "metadata": {},
   "outputs": [
    {
     "name": "stdout",
     "output_type": "stream",
     "text": [
      "var1 = \"hello world\"\n",
      "var2 = \"something else\"\n",
      "var3 = \"a third thing\"\n",
      "result = var3"
     ]
    }
   ],
   "source": [
    "var1 = \"hello world\"\n",
    "var2 = \"something else\"\n",
    "var3 = \"a third thing\"\n",
    "\n",
    ":show"
   ]
  },
  {
   "cell_type": "markdown",
   "id": "sunrise-trade",
   "metadata": {},
   "source": [
    "One \"gotcha\" specific to Jupyter notebooks: each line that causes something to print (or shows a plot) needs to either be in its own cell or be preceded by a blank line. Otherwise the parser will get confused. So the blank line above `:show` here is important."
   ]
  },
  {
   "cell_type": "markdown",
   "id": "earned-isolation",
   "metadata": {},
   "source": [
    "### `result` as the final result of your code"
   ]
  },
  {
   "cell_type": "markdown",
   "id": "awful-daily",
   "metadata": {},
   "source": [
    "When you've finished and want to publish the code for others, remember to explicitly override `result` to point to whatever you want the script to calculate."
   ]
  },
  {
   "cell_type": "code",
   "execution_count": 6,
   "id": "conditional-scroll",
   "metadata": {},
   "outputs": [
    {
     "name": "stdout",
     "output_type": "stream",
     "text": []
    }
   ],
   "source": [
    "result = var2"
   ]
  },
  {
   "cell_type": "code",
   "execution_count": 7,
   "id": "suitable-fiber",
   "metadata": {},
   "outputs": [
    {
     "name": "stdout",
     "output_type": "stream",
     "text": [
      "var1 = \"hello world\"\n",
      "var2 = \"something else\"\n",
      "var3 = \"a third thing\"\n",
      "result = var2"
     ]
    }
   ],
   "source": [
    ":show"
   ]
  },
  {
   "cell_type": "markdown",
   "id": "nuclear-compact",
   "metadata": {},
   "source": [
    "### `result` as a temporary variable"
   ]
  },
  {
   "cell_type": "markdown",
   "id": "favorite-snowboard",
   "metadata": {},
   "source": [
    "You can also use `result` as a kind of temporary variable to build up a more complicated piece of code. To do that, assign it to itself with some additional operations. Then give the whole thing a variable name when you're ready. For example, with numbers:"
   ]
  },
  {
   "cell_type": "code",
   "execution_count": 8,
   "id": "prospective-emperor",
   "metadata": {},
   "outputs": [
    {
     "name": "stdout",
     "output_type": "stream",
     "text": [
      "20"
     ]
    }
   ],
   "source": [
    "4 * 5"
   ]
  },
  {
   "cell_type": "code",
   "execution_count": 9,
   "id": "joined-thread",
   "metadata": {},
   "outputs": [
    {
     "name": "stdout",
     "output_type": "stream",
     "text": [
      "0.5714285714285714"
     ]
    }
   ],
   "source": [
    "result / 35"
   ]
  },
  {
   "cell_type": "code",
   "execution_count": 10,
   "id": "typical-tunisia",
   "metadata": {},
   "outputs": [
    {
     "name": "stdout",
     "output_type": "stream",
     "text": [
      "var1 = \"hello world\"\n",
      "var2 = \"something else\"\n",
      "var3 = \"a third thing\"\n",
      "result = 4 * 5 / 35"
     ]
    }
   ],
   "source": [
    ":show"
   ]
  },
  {
   "cell_type": "code",
   "execution_count": 11,
   "id": "rapid-allergy",
   "metadata": {},
   "outputs": [
    {
     "name": "stdout",
     "output_type": "stream",
     "text": []
    }
   ],
   "source": [
    "mynum = result"
   ]
  },
  {
   "cell_type": "code",
   "execution_count": 12,
   "id": "interim-endorsement",
   "metadata": {},
   "outputs": [
    {
     "name": "stdout",
     "output_type": "stream",
     "text": [
      "var1 = \"hello world\"\n",
      "var2 = \"something else\"\n",
      "var3 = \"a third thing\"\n",
      "mynum = 4 * 5 / 35\n",
      "result = mynum"
     ]
    }
   ],
   "source": [
    ":show"
   ]
  },
  {
   "cell_type": "markdown",
   "id": "extreme-tucson",
   "metadata": {},
   "source": [
    "### Dropping variables"
   ]
  },
  {
   "cell_type": "markdown",
   "id": "associate-valuable",
   "metadata": {},
   "source": [
    "Another important thing is how to remove (delete) variables. Use the `:drop` command, either on its own to drop everything or with a specific variable name:"
   ]
  },
  {
   "cell_type": "code",
   "execution_count": 13,
   "id": "expressed-matter",
   "metadata": {},
   "outputs": [
    {
     "name": "stdout",
     "output_type": "stream",
     "text": [
      "var1 = \"hello world\"\n",
      "var3 = \"a third thing\"\n",
      "mynum = 4 * 5 / 35\n",
      "result = mynum"
     ]
    }
   ],
   "source": [
    ":drop var2\n",
    "\n",
    ":show"
   ]
  },
  {
   "cell_type": "markdown",
   "id": "registered-oxygen",
   "metadata": {},
   "source": [
    "*Warning: I haven't written the code yet that will stop you from deleting a variable that other variables depend on, so if you do that you'll just get an error later!*"
   ]
  },
  {
   "cell_type": "code",
   "execution_count": 14,
   "id": "advised-active",
   "metadata": {},
   "outputs": [
    {
     "name": "stdout",
     "output_type": "stream",
     "text": []
    }
   ],
   "source": [
    ":drop\n",
    "\n",
    ":show"
   ]
  },
  {
   "cell_type": "markdown",
   "id": "proved-heath",
   "metadata": {},
   "source": [
    "(The script is empty now, so nothing is shown)"
   ]
  }
 ],
 "metadata": {
  "kernelspec": {
   "display_name": "OrthoLang 0.10.1",
   "language": "ortholang",
   "name": "ortholang_0.10.1"
  },
  "language_info": {
   "file_extension": ".ol",
   "mimetype": "text/x-script.ortholang",
   "name": "OrthoLang",
   "pygments_lexer": "ipython3"
  }
 },
 "nbformat": 4,
 "nbformat_minor": 5
}
