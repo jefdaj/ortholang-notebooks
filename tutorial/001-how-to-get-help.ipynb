{
 "cells": [
  {
   "cell_type": "markdown",
   "id": "affecting-violation",
   "metadata": {},
   "source": [
    "# How to get `:help`\n",
    "\n",
    "Type `:help` (with the colon in front) to look up docs for the OrthoLang interpreter itself or a specific function or filetype."
   ]
  },
  {
   "cell_type": "code",
   "execution_count": 1,
   "id": "helpful-canberra",
   "metadata": {},
   "outputs": [
    {
     "name": "stdout",
     "output_type": "stream",
     "text": [
      "You can type or paste OrthoLang code here to run it, same as in a script.\n",
      "Unlike in a script though, you can also evaluate and redefine variables.\n",
      "There are also some extra commands specific to --interactive mode:\n",
      "\n",
      ":help      to print info about a function or filetype\n",
      ":load      to clear the current session and load a script\n",
      ":reload    to reload the current script\n",
      ":write     to save the whole script (or dependencies of a specific variable)\n",
      ":depends   to show which variables a given variable depends on\n",
      ":rdepends  to show which variables depend on the given variable (\"reverse depends\")\n",
      ":drop      to discard the current script (or a specific variable)\n",
      ":quit      to discard the current script and exit the interpreter\n",
      ":type      to print the type of an expression\n",
      ":show      to print an expression along with its type\n",
      ":shell     to run the rest of the line as a shell command (disabled in --secure mode)\n",
      ":!         as a shorter alias for :shell"
     ]
    }
   ],
   "source": [
    ":help"
   ]
  },
  {
   "cell_type": "code",
   "execution_count": 2,
   "id": "acoustic-lobby",
   "metadata": {},
   "outputs": [
    {
     "name": "stdout",
     "output_type": "stream",
     "text": [
      "The faa extension is for FASTA amino acid.\n",
      "\n",
      "You can create them with these 6 functions:\n",
      "  concat_faa : faa.list -> faa\n",
      "  gbk_to_faa : str gbk -> faa\n",
      "  gbk_to_faa_rawids : str gbk -> faa\n",
      "  load_faa : str -> faa\n",
      "  load_faa_path : str -> faa\n",
      "  translate : fna -> faa\n",
      "\n",
      "And use them with these 43 functions:\n",
      "  blastp : num faa faa -> bht\n",
      "  blastp_db : num faa faa.blastdb -> bht\n",
      "  blastp_db_each : num faa faa.blastdb.list -> bht.list\n",
      "  blastp_each : num faa faa.list -> bht.list\n",
      "  blastp_rbh : num faa faa -> bht\n",
      "  blastp_rbh_each : num faa faa -> bht\n",
      "  blastp_rev : num faa faa -> bht\n",
      "  blastp_rev_each : num faa faa.list -> bht.list\n",
      "  blastx : num fna faa -> bht\n",
      "  busco_proteins : blh faa -> bsr\n",
      "  ..."
     ]
    }
   ],
   "source": [
    ":help faa"
   ]
  },
  {
   "cell_type": "code",
   "execution_count": 3,
   "id": "beginning-little",
   "metadata": {},
   "outputs": [
    {
     "name": "stdout",
     "output_type": "stream",
     "text": [
      "blastp_db : num faa faa.blastdb -> bht\n",
      "\n",
      "where\n",
      "  num = number in regular or scientific notation\n",
      "  faa = FASTA amino acid\n",
      "  bht = tab-separated table of blast hits (outfmt 6)\n",
      "\n",
      "Like blastp, but BLASTs against an existing database.\n",
      "\n",
      "Inputs:\n",
      "  an e-value cutoff\n",
      "  a query FASTA amino acid file\n",
      "  a subject BLAST protein database\n",
      "\n",
      "Algorithm:\n",
      "  BLAST the query sequences against the database\n",
      "\n",
      "Output:\n",
      "  a table of all hits below the cutoff"
     ]
    }
   ],
   "source": [
    ":help blastp_db"
   ]
  },
  {
   "cell_type": "code",
   "execution_count": null,
   "id": "726a09be-7ef6-47db-a0c5-842cc777bfde",
   "metadata": {},
   "outputs": [],
   "source": []
  }
 ],
 "metadata": {
  "kernelspec": {
   "display_name": "OrthoLang 0.10.1",
   "language": "ortholang",
   "name": "ortholang_0.10.1"
  },
  "language_info": {
   "file_extension": ".ol",
   "mimetype": "text/x-script.ortholang",
   "name": "OrthoLang",
   "pygments_lexer": "ipython3"
  }
 },
 "nbformat": 4,
 "nbformat_minor": 5
}
