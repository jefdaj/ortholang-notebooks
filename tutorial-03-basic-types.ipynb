{
 "cells": [
  {
   "cell_type": "markdown",
   "id": "cultural-experiment",
   "metadata": {},
   "source": [
    "# Types"
   ]
  },
  {
   "cell_type": "markdown",
   "id": "least-diabetes",
   "metadata": {},
   "source": [
    "### Basic Types"
   ]
  },
  {
   "cell_type": "markdown",
   "id": "painted-enterprise",
   "metadata": {},
   "source": [
    "Many programming languages have some notion of the \"type\" of each variable, although what that means varies pretty widely. The basic types almost always include strings (text) and one or more way of representing numbers. In OrthoLang those are called `str` and `num`. `str`s have to have double quotes around them. `num`s can be written in regular or scientific notation; both are represented the same internally."
   ]
  },
  {
   "cell_type": "code",
   "execution_count": 1,
   "id": "accredited-litigation",
   "metadata": {},
   "outputs": [
    {
     "name": "stdout",
     "output_type": "stream",
     "text": [
      "s1 = \"this is a string\"\r\n",
      "n1 = 1\r\n",
      "n2 = 1.56e-7\r\n",
      "result = n2"
     ]
    }
   ],
   "source": [
    "s1 = \"this is a string\"\n",
    "n1 = 1\n",
    "n2 = 1.56e-7\n",
    "\n",
    ":show"
   ]
  },
  {
   "cell_type": "markdown",
   "id": "ready-denver",
   "metadata": {},
   "source": [
    "You can use the `:type` command (`:t` for short) to get the type of a variable, or of the whole current script."
   ]
  },
  {
   "cell_type": "code",
   "execution_count": 4,
   "id": "young-crack",
   "metadata": {},
   "outputs": [
    {
     "name": "stdout",
     "output_type": "stream",
     "text": [
      "num"
     ]
    }
   ],
   "source": [
    ":t n1"
   ]
  },
  {
   "cell_type": "code",
   "execution_count": 7,
   "id": "unlimited-lemon",
   "metadata": {},
   "outputs": [
    {
     "name": "stdout",
     "output_type": "stream",
     "text": [
      "s1.str = \"this is a string\"\r\n",
      "n1.num = 1\r\n",
      "n2.num = 1.56e-7\r\n",
      "result.num = n2"
     ]
    }
   ],
   "source": [
    ":t"
   ]
  },
  {
   "cell_type": "markdown",
   "id": "hindu-bridge",
   "metadata": {},
   "source": [
    "We'll get to why the types are written in that weird notation in the next section. For now, just notice that each variable is auto-assigned a type, and OrthoLang will stop with an error if you try to call a function with the wrong type of argument."
   ]
  },
  {
   "cell_type": "code",
   "execution_count": 10,
   "id": "detected-giving",
   "metadata": {},
   "outputs": [
    {
     "name": "stdout",
     "output_type": "stream",
     "text": [
      "End Of File (EOF). Exception style platform.\n",
      "<pexpect.pty_spawn.spawn object at 0x7f4bf9416150>\n",
      "command: /nix/store/5v4h7vsx6j0bwx1pyn7w4fsvqgqgy0r8-OrthoLang-0.9.5/bin/ortholang\n",
      "args: [b'/nix/store/5v4h7vsx6j0bwx1pyn7w4fsvqgqgy0r8-OrthoLang-0.9.5/bin/ortholang', b'--config', b'.ortholang-kernels/a2e32d6a-9491-40a9-bade-57913b65aa56/ortholang.cfg', b'--interactive']\n",
      "buffer (last 100 chars): ''\n",
      "before (last 100 chars): 'rror, called at ./Control/Logging.hs:254:5 in logging-3.0.5-BuAqyQtFs97AuKklheJ82k:Control.Logging\\r\\n'\n",
      "after: <class 'pexpect.exceptions.EOF'>\n",
      "match: None\n",
      "match_index: None\n",
      "exitstatus: None\n",
      "flag_eof: True\n",
      "pid: 348802\n",
      "child_fd: 45\n",
      "closed: False\n",
      "timeout: 10\n",
      "delimiter: <class 'pexpect.exceptions.EOF'>\n",
      "logfile: None\n",
      "logfile_read: None\n",
      "logfile_send: None\n",
      "maxread: 2000\n",
      "ignorecase: False\n",
      "searchwindowsize: None\n",
      "delaybeforesend: 0.05\n",
      "delayafterclose: 0.1\n",
      "delayafterterminate: 0.1\n",
      "searcher: searcher_string:\n",
      "    0: ' —▶ '\n",
      "    1: 'Bye for now!'"
     ]
    }
   ],
   "source": [
    "54 + \"56\""
   ]
  },
  {
   "cell_type": "markdown",
   "id": "consecutive-model",
   "metadata": {},
   "source": [
    "As you can see, the error message might be long and unfriendly-looking. I'm working on that!"
   ]
  },
  {
   "cell_type": "code",
   "execution_count": null,
   "id": "realistic-newcastle",
   "metadata": {},
   "outputs": [],
   "source": []
  }
 ],
 "metadata": {
  "kernelspec": {
   "display_name": "OrthoLang 0.9.5 (2020-05-15)",
   "language": "ortholang",
   "name": "ortholang"
  },
  "language_info": {
   "file_extension": ".ol",
   "mimetype": "text/x-script.ortholang",
   "name": "OrthoLang",
   "pygments_lexer": "ipython3"
  }
 },
 "nbformat": 4,
 "nbformat_minor": 5
}
