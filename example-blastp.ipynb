{
 "cells": [
  {
   "cell_type": "markdown",
   "id": "3dae1a60-b663-4e96-a4fd-ff580e30b0cc",
   "metadata": {},
   "source": [
    "# BLAST"
   ]
  },
  {
   "cell_type": "code",
   "execution_count": 38,
   "id": "52a89944-0dce-4544-926b-748a780f6c15",
   "metadata": {},
   "outputs": [
    {
     "name": "stdout",
     "output_type": "stream",
     "text": []
    }
   ],
   "source": [
    "magala = load_faa \"example-data/Mycoplasma_agalactiae_small.faa\"\n",
    "mbovis = load_faa \"example-data/Mycoplasma_bovis_small.fa\""
   ]
  },
  {
   "cell_type": "code",
   "execution_count": 39,
   "id": "bdbd2e4a-2250-4672-90b9-3a0a178b0f27",
   "metadata": {},
   "outputs": [
    {
     "name": "stdout",
     "output_type": "stream",
     "text": [
      ">gi|290752267|emb|CBH40238.1|\n",
      "MNINSPNDKEIALKSYTETFLDILRQELGDQMLYKNFFANFEIKDVSKIGHITIGTTNVT\n",
      "PNSQYVIRAYESSIQKSLDETFERKCTFSFVLLDSAVKKKVKRERKEAAIENIELSNREV\n",
      "DKTKTFENYVEGNFNKEAIRIAKLIVEGEEDYNPIFIYGKSGIGKTHLLNAICNELLKKE\n",
      "VSVKYINANSFTRDISYFLQENDQRKLKQIRNHFDNADIVMFDDFQSYGIGNKKATIELI\n",
      "..."
     ]
    }
   ],
   "source": [
    "magala"
   ]
  },
  {
   "cell_type": "code",
   "execution_count": 40,
   "id": "76e6522f-32ec-4bee-a48a-178715eb138b",
   "metadata": {},
   "outputs": [
    {
     "name": "stdout",
     "output_type": "stream",
     "text": [
      ">AKO50237\n",
      "MNINSTNDKEIALKSYTETFLDILRQELGDQMLYKNFFANFEIKDISKIGHITIGTTNIT\n",
      "PNSQYVIKAYESSIQKSLDETFERKCTFSFVLLDSAIKKKIKRERKEEAIENIELSNREV\n",
      "DKAKTFDNYVEGNFNKEAIRIAKLIVDGEEDYNPIFIYGKSGIGKTHLLNAICNEFLKKD\n",
      "VSVKYINANSFTRDISYFLQENDQRKLKQIRNHFDNADIVMFDDFQSYGIGNKKATIELI\n",
      "..."
     ]
    }
   ],
   "source": [
    "mbovis"
   ]
  },
  {
   "cell_type": "code",
   "execution_count": 41,
   "id": "e99361c1-2a44-4a24-bcb4-282b0fc916f1",
   "metadata": {},
   "outputs": [
    {
     "name": "stdout",
     "output_type": "stream",
     "text": []
    }
   ],
   "source": [
    "# start with a simple search: one fasta file against another\n",
    "# list M. agalactiae genes with good hits in M. bovis\n",
    "hits1  = blastp 1.0e-20 magala mbovis\n",
    "genes1 = extract_queries hits1"
   ]
  },
  {
   "cell_type": "code",
   "execution_count": 42,
   "id": "0cf1070e-e505-46a1-9bc3-ba6336d76346",
   "metadata": {
    "tags": []
   },
   "outputs": [
    {
     "name": "stdout",
     "output_type": "stream",
     "text": [
      "gi|290752267|emb|CBH40238.1|\tAKO50237\t96.352\t466\t17\t0\t1\t466\t1\t466\t0.0\t913\n",
      "gi|290752268|emb|CBH40239.1|\tAKO50238\t90.786\t369\t34\t0\t1\t369\t1\t369\t0.0\t681\n",
      "gi|290752269|emb|CBH40240.1|\tAKO50242\t92.720\t261\t19\t0\t1\t261\t1\t261\t0.0\t507\n",
      "gi|290752269|emb|CBH40240.1|\tAKO50243\t57.252\t262\t110\t1\t1\t260\t1\t262\t3.30e-113\t320\n",
      "gi|290752270|emb|CBH40241.1|\tAKO50243\t90.458\t262\t25\t0\t1\t262\t1\t262\t0.0\t499\n",
      "..."
     ]
    }
   ],
   "source": [
    "hits1"
   ]
  },
  {
   "cell_type": "code",
   "execution_count": 43,
   "id": "cd3297b5-c4bf-461c-b5be-2429404f8bb1",
   "metadata": {},
   "outputs": [
    {
     "name": "stdout",
     "output_type": "stream",
     "text": [
      "157"
     ]
    }
   ],
   "source": [
    "length genes1"
   ]
  },
  {
   "cell_type": "code",
   "execution_count": 60,
   "id": "6b5290cd-a746-497f-84ee-8f0b1629e995",
   "metadata": {},
   "outputs": [
    {
     "name": "stdout",
     "output_type": "stream",
     "text": [
      "[\"gi|290752383|emb|CBH40354.1|\",\n",
      " \"gi|290752326|emb|CBH40297.1|\",\n",
      " \"gi|290752279|emb|CBH40250.1|\",\n",
      " \"gi|290752303|emb|CBH40274.1|\",\n",
      " \"gi|290752358|emb|CBH40329.1|\",\n",
      " \"gi|290752410|emb|CBH40381.1|\",\n",
      " \"gi|290752339|emb|CBH40310.1|\",\n",
      " \"gi|290752366|emb|CBH40337.1|\",\n",
      " \"gi|290752362|emb|CBH40333.1|\",\n",
      " \"gi|290752392|emb|CBH40363.1|\"]"
     ]
    }
   ],
   "source": [
    "# use the sample function to avoid printing the entire list\n",
    "# notice also that `extract_queries` gets the first column of IDs;\n",
    "# use `extract_targets` if you want the second column instead\n",
    "sample 10 genes1"
   ]
  },
  {
   "cell_type": "code",
   "execution_count": 61,
   "id": "363a3125-068d-48cf-bc42-b408fa5e482e",
   "metadata": {},
   "outputs": [
    {
     "name": "stdout",
     "output_type": "stream",
     "text": []
    }
   ],
   "source": [
    "# now list M. agalactiae genes with good hits in every Mycoplasma species\n",
    "# (the [magala] part subtracts magala from the others list so it isn't also querying itself)\n",
    "others = load_faa_glob \"example-data/Mycoplasma_*_refseq.faa\" ~ [magala]\n",
    "hits2  = blastp_db 1e-20 magala (makeblastdb_prot_all others)\n",
    "genes2 = extract_queries hits2"
   ]
  },
  {
   "cell_type": "code",
   "execution_count": 53,
   "id": "c4765d7e-54da-44ba-85cc-5e3f119bdb25",
   "metadata": {},
   "outputs": [
    {
     "name": "stdout",
     "output_type": "stream",
     "text": [
      "174"
     ]
    }
   ],
   "source": [
    "length genes2"
   ]
  },
  {
   "cell_type": "code",
   "execution_count": 55,
   "id": "7210ddd9-faa3-4aa9-98d9-150f72b4668f",
   "metadata": {},
   "outputs": [
    {
     "name": "stdout",
     "output_type": "stream",
     "text": [
      "[\"gi|290752402|emb|CBH40373.1|\",\n",
      " \"gi|290752370|emb|CBH40341.1|\",\n",
      " \"gi|290752277|emb|CBH40248.1|\",\n",
      " \"gi|290752373|emb|CBH40344.1|\",\n",
      " \"gi|290752359|emb|CBH40330.1|\",\n",
      " \"gi|290752432|emb|CBH40403.1|\",\n",
      " \"gi|290752335|emb|CBH40306.1|\",\n",
      " \"gi|290752365|emb|CBH40336.1|\",\n",
      " \"gi|290752413|emb|CBH40384.1|\",\n",
      " \"gi|290752274|emb|CBH40245.1|\"]"
     ]
    }
   ],
   "source": [
    "# note that the sample will be different, so we don't expect the same 10 IDs as above\n",
    "# this is just to double-check what each list looks like\n",
    "sample 10 genes2"
   ]
  },
  {
   "cell_type": "code",
   "execution_count": 58,
   "id": "65595d13-2834-4cbf-a389-80d113e3d214",
   "metadata": {},
   "outputs": [
    {
     "name": "stdout",
     "output_type": "stream",
     "text": [
      "[\"gi|290752288|emb|CBH40259.1|\",\n",
      " \"gi|290752296|emb|CBH40267.1|\",\n",
      " \"gi|290752368|emb|CBH40339.1|\",\n",
      " \"gi|290752377|emb|CBH40348.1|\",\n",
      " \"gi|290752386|emb|CBH40357.1|\"]"
     ]
    }
   ],
   "source": [
    "# finally, list genes found in magala and mbovis but not one of the others\n",
    "genes1 ~ genes2"
   ]
  }
 ],
 "metadata": {
  "kernelspec": {
   "display_name": "OrthoLang 0.10.1",
   "language": "ortholang",
   "name": "ortholang_0.10.1"
  },
  "language_info": {
   "file_extension": ".ol",
   "mimetype": "text/x-script.ortholang",
   "name": "OrthoLang",
   "pygments_lexer": "ipython3"
  }
 },
 "nbformat": 4,
 "nbformat_minor": 5
}
