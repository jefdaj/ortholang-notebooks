{
 "cells": [
  {
   "cell_type": "markdown",
   "id": "encouraging-progress",
   "metadata": {},
   "source": [
    "# Functions"
   ]
  },
  {
   "cell_type": "markdown",
   "id": "mineral-regular",
   "metadata": {},
   "source": [
    "Math and set operations have short \"operator\" versions (`+`, `*`, `~`, etc), but all the rest are written out in words:\n",
    "\n",
    "```\n",
    "variable_name = function_name input1 input2 input3\n",
    "```\n",
    "\n",
    "Unlike some languages you might be used to, you don't use parentheses around function inputs. Instead they work more like in math, to say which things should be evaluated first.\n",
    "\n",
    "```\n",
    "variable_name = function_name input1 (nested_function_name nested_input1 nested_input2) input3\n",
    "```\n",
    "\n",
    "That will evaluate to the same result as this:\n",
    "\n",
    "```\n",
    "earlier_var_name = nested_function_name nested_input1 nested_input2\n",
    "variable_name = function_name input1 earlier_var_name input3\n",
    "```"
   ]
  },
  {
   "cell_type": "code",
   "execution_count": null,
   "id": "indian-oxygen",
   "metadata": {},
   "outputs": [],
   "source": []
  }
 ],
 "metadata": {
  "kernelspec": {
   "display_name": "OrthoLang 0.9.5 (2020-05-15)",
   "language": "ortholang",
   "name": "ortholang"
  },
  "language_info": {
   "file_extension": ".ol",
   "mimetype": "text/x-script.ortholang",
   "name": "OrthoLang",
   "pygments_lexer": "ipython3"
  }
 },
 "nbformat": 4,
 "nbformat_minor": 5
}
